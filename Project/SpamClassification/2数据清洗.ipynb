{
 "cells": [
  {
   "cell_type": "markdown",
   "metadata": {},
   "source": [
    "# 导入相关库 "
   ]
  },
  {
   "cell_type": "code",
   "execution_count": 1,
   "metadata": {},
   "outputs": [],
   "source": [
    "import numpy as np\n",
    "import pandas as pd\n",
    "import re\n",
    "import jieba\n",
    "import os"
   ]
  },
  {
   "cell_type": "markdown",
   "metadata": {},
   "source": [
    "# 导入数据"
   ]
  },
  {
   "cell_type": "code",
   "execution_count": 2,
   "metadata": {},
   "outputs": [
    {
     "data": {
      "text/html": [
       "<div>\n",
       "<style scoped>\n",
       "    .dataframe tbody tr th:only-of-type {\n",
       "        vertical-align: middle;\n",
       "    }\n",
       "\n",
       "    .dataframe tbody tr th {\n",
       "        vertical-align: top;\n",
       "    }\n",
       "\n",
       "    .dataframe thead th {\n",
       "        text-align: right;\n",
       "    }\n",
       "</style>\n",
       "<table border=\"1\" class=\"dataframe\">\n",
       "  <thead>\n",
       "    <tr style=\"text-align: right;\">\n",
       "      <th></th>\n",
       "      <th>from</th>\n",
       "      <th>to</th>\n",
       "      <th>date</th>\n",
       "      <th>content</th>\n",
       "      <th>label</th>\n",
       "    </tr>\n",
       "  </thead>\n",
       "  <tbody>\n",
       "    <tr>\n",
       "      <th>0</th>\n",
       "      <td>\"yan\"&lt;(8月27-28,上海)培训课程&gt;</td>\n",
       "      <td>lu@ccert.edu.cn</td>\n",
       "      <td>Tue, 30 Aug 2005 10:08:15 +0800</td>\n",
       "      <td>非财务纠淼牟莆窆芾-（沙盘模拟）------如何运用财务岳硖岣吖芾砑ㄐ[课 程 背 景]每一...</td>\n",
       "      <td>1</td>\n",
       "    </tr>\n",
       "    <tr>\n",
       "      <th>1</th>\n",
       "      <td>\"pan\" &lt;pan@jdl.ac.cn&gt;</td>\n",
       "      <td>shi@ccert.edu.cn</td>\n",
       "      <td>Sun, 14 Aug 2005 10:16:47 +0800</td>\n",
       "      <td>讲的是孔子后人的故事。一个老领导回到家乡，跟儿子感情不和，跟贪财的孙子孔为本和睦。老领导的弟...</td>\n",
       "      <td>0</td>\n",
       "    </tr>\n",
       "    <tr>\n",
       "      <th>2</th>\n",
       "      <td>=?GB2312?B?1cW6o8TP?= &lt;jian@163.con&gt;</td>\n",
       "      <td>xing@ccert.edu.cn</td>\n",
       "      <td>Sun, 14 Aug 2005 10:17:57 +0800</td>\n",
       "      <td>尊敬的贵公司(财务/经理)负责人您好！我是深圳金海实业有限公司（广州。东莞）等省市有分公司。...</td>\n",
       "      <td>1</td>\n",
       "    </tr>\n",
       "    <tr>\n",
       "      <th>3</th>\n",
       "      <td>=?GB2312?B?tPq/qreixrE=?= &lt;pan@12.com&gt;</td>\n",
       "      <td>ling@ccert.edu.cn</td>\n",
       "      <td>Sun, 14 Aug 2005 10:19:02 +0800</td>\n",
       "      <td>贵公司负责人(经理/财务）您好：深圳市华龙公司受多家公司委托向外低点代开部分增值税电脑发票（...</td>\n",
       "      <td>1</td>\n",
       "    </tr>\n",
       "    <tr>\n",
       "      <th>4</th>\n",
       "      <td>\"mei\" &lt;mei@dghhkjk.com&gt;</td>\n",
       "      <td>tang@ccert.edu.cn</td>\n",
       "      <td>Sun, 14 Aug 2005 10:21:22 +0800</td>\n",
       "      <td>这是一封HTML格式信件！---------------------------------...</td>\n",
       "      <td>1</td>\n",
       "    </tr>\n",
       "  </tbody>\n",
       "</table>\n",
       "</div>"
      ],
      "text/plain": [
       "                                     from                 to  \\\n",
       "0                 \"yan\"<(8月27-28,上海)培训课程>    lu@ccert.edu.cn   \n",
       "1                   \"pan\" <pan@jdl.ac.cn>   shi@ccert.edu.cn   \n",
       "2    =?GB2312?B?1cW6o8TP?= <jian@163.con>  xing@ccert.edu.cn   \n",
       "3  =?GB2312?B?tPq/qreixrE=?= <pan@12.com>  ling@ccert.edu.cn   \n",
       "4                 \"mei\" <mei@dghhkjk.com>  tang@ccert.edu.cn   \n",
       "\n",
       "                              date  \\\n",
       "0  Tue, 30 Aug 2005 10:08:15 +0800   \n",
       "1  Sun, 14 Aug 2005 10:16:47 +0800   \n",
       "2  Sun, 14 Aug 2005 10:17:57 +0800   \n",
       "3  Sun, 14 Aug 2005 10:19:02 +0800   \n",
       "4  Sun, 14 Aug 2005 10:21:22 +0800   \n",
       "\n",
       "                                             content  label  \n",
       "0  非财务纠淼牟莆窆芾-（沙盘模拟）------如何运用财务岳硖岣吖芾砑ㄐ[课 程 背 景]每一...      1  \n",
       "1  讲的是孔子后人的故事。一个老领导回到家乡，跟儿子感情不和，跟贪财的孙子孔为本和睦。老领导的弟...      0  \n",
       "2  尊敬的贵公司(财务/经理)负责人您好！我是深圳金海实业有限公司（广州。东莞）等省市有分公司。...      1  \n",
       "3  贵公司负责人(经理/财务）您好：深圳市华龙公司受多家公司委托向外低点代开部分增值税电脑发票（...      1  \n",
       "4  这是一封HTML格式信件！---------------------------------...      1  "
      ]
     },
     "execution_count": 2,
     "metadata": {},
     "output_type": "execute_result"
    }
   ],
   "source": [
    "data = pd.read_csv('./datas/data_clean.csv',sep='##',names=['from','to','date','content','label'],encoding='utf8',engine='python')\n",
    "data.head()"
   ]
  },
  {
   "cell_type": "markdown",
   "metadata": {},
   "source": [
    "# 数据处理"
   ]
  },
  {
   "cell_type": "markdown",
   "metadata": {},
   "source": [
    "## 收件邮箱与发件邮箱处理"
   ]
  },
  {
   "cell_type": "code",
   "execution_count": 3,
   "metadata": {},
   "outputs": [],
   "source": [
    "def getEmail(row):\n",
    "    li = re.findall('@([A-Za-z0-9]+\\.[A-Za-z0-9\\.]+)',str(row))\n",
    "    if len(li)>0:\n",
    "        return li[0]\n",
    "    else:\n",
    "        return 'unknown'\n",
    "\n",
    "data['from'] = data['from'].apply(getEmail)\n",
    "data['to'] = data['to'].apply(getEmail)"
   ]
  },
  {
   "cell_type": "markdown",
   "metadata": {},
   "source": [
    "## 时间处理"
   ]
  },
  {
   "cell_type": "code",
   "execution_count": 4,
   "metadata": {},
   "outputs": [],
   "source": [
    "data['date'] = data['date'].astype('str')"
   ]
  },
  {
   "cell_type": "code",
   "execution_count": 5,
   "metadata": {},
   "outputs": [
    {
     "name": "stdout",
     "output_type": "stream",
     "text": [
      "3 nan\n",
      "16 2005-9-2 上午11:04\n",
      "20 Sep 23, 2005 1:04 AM\n",
      "23 August 24, 2005, 5:00pm\n",
      "24 Thu, 1 Sep 2005 09:42:01\n",
      "25 Mon, 15 Aug 2005 07:04:08\n",
      "27 Sat, 1 Oct 2005 00:12:07 UT\n",
      "28 Mon, 1 Jan 2001 21:40:47 GMT\n",
      "29 Sun, 14 Aug 2005 11:59:22 GMT\n",
      "30 Thu, 3 Feb 2005 04:03:08 +0800\n",
      "31 Tue, 30 Aug 2005 10:08:15 +0800\n",
      "32 Tue, 16 Aug 2005 06:19:16 中国标准时间\n",
      "33 Mon,2TThu, 1 Sep 2005 01:41:29 PM\n",
      "34 Wed,2FSun, 28 Aug 2005 03:33:18 PM\n",
      "35 Thu,1Fri, 2 Sep 2005 09:02:56 +0800\n",
      "36 Thu, 1 Sep 2005 06:28:02 +0800 (CST)\n",
      "37 Sun, 14 Aug 2005 13:05:41 +0800 (CST)\n",
      "46 Sun, 2 Oct 2005 04:18:16 -Mailer: OpenSmtp.net\n",
      "47 Sun, 14 Aug 2005 10:21:23 -Mailer: OpenSmtp.net\n",
      "58 Thu, 1 Sep 2005 03:46:34  +0800  X-Priority:  3  X-Mailer:\n",
      "59 Mon, 12 Sep 2005 11:16:56  +0800  X-Priority:  2  X-Mailer:\n",
      "62 Thu, 1 Sep 2005 20:09:06 +0800 X-Priority: 3 X-Mailer: FoxMail\n",
      "63 Wed, 31 Aug 2005 00:02:40 +0800 X-Priority: 3 X-Mailer: FoxMail\n"
     ]
    }
   ],
   "source": [
    "dateLength = data['date'].map(len).sort_values().unique() # 获取不同时间格式的长度\n",
    "dates = data['date'].unique() # 获取唯一时间\n",
    "for length in dateLength:\n",
    "    print(length, list(filter(lambda row:len(row)==length,dates))[0]) # 如果长度相等，获取时间"
   ]
  },
  {
   "cell_type": "code",
   "execution_count": 6,
   "metadata": {},
   "outputs": [],
   "source": [
    "def func(row):\n",
    "    length = len(row)\n",
    "    hour = '' # 经过观察，判断是否是垃圾邮件，最关键的是小时，和年份，月份，天数，星期无关\n",
    "    temp = 0 # 临时变量\n",
    "    \n",
    "    if length == 3:\n",
    "        return np.nan\n",
    "    elif length == 16:\n",
    "        if '下午' in row:\n",
    "            temp = 12\n",
    "        return int(re.findall('(\\d+):\\d+', row)[0])+temp\n",
    "    elif length == 20:\n",
    "        if 'PM' in row: \n",
    "            temp = 12\n",
    "        return int(re.findall('(\\d+):\\d+', row)[0])+temp\n",
    "    elif length == 23:\n",
    "        if 'pm' in row: \n",
    "            temp = 12\n",
    "        return int(re.findall('(\\d+):\\d+', row)[0])+temp\n",
    "    else:\n",
    "        return int(re.findall('(\\d{2}):\\d{2}:\\d{2}', row)[0])\n",
    "\n",
    "data['date'] = data['date'].apply(func)"
   ]
  },
  {
   "cell_type": "markdown",
   "metadata": {},
   "source": [
    "## 内容特征处理"
   ]
  },
  {
   "cell_type": "code",
   "execution_count": 7,
   "metadata": {},
   "outputs": [
    {
     "name": "stderr",
     "output_type": "stream",
     "text": [
      "Building prefix dict from the default dictionary ...\n",
      "Loading model from cache C:\\Users\\zylin\\AppData\\Local\\Temp\\jieba.cache\n",
      "Loading model cost 0.937 seconds.\n",
      "Prefix dict has been built succesfully.\n"
     ]
    }
   ],
   "source": [
    "def func(row):\n",
    "    return ' '.join(jieba.cut(row))\n",
    "\n",
    "data['content'] = data['content'].astype('str')\n",
    "data['content'] = data['content'].apply(func)"
   ]
  },
  {
   "cell_type": "code",
   "execution_count": 8,
   "metadata": {},
   "outputs": [
    {
     "data": {
      "text/html": [
       "<div>\n",
       "<style scoped>\n",
       "    .dataframe tbody tr th:only-of-type {\n",
       "        vertical-align: middle;\n",
       "    }\n",
       "\n",
       "    .dataframe tbody tr th {\n",
       "        vertical-align: top;\n",
       "    }\n",
       "\n",
       "    .dataframe thead th {\n",
       "        text-align: right;\n",
       "    }\n",
       "</style>\n",
       "<table border=\"1\" class=\"dataframe\">\n",
       "  <thead>\n",
       "    <tr style=\"text-align: right;\">\n",
       "      <th></th>\n",
       "      <th>from</th>\n",
       "      <th>to</th>\n",
       "      <th>date</th>\n",
       "      <th>content</th>\n",
       "      <th>label</th>\n",
       "    </tr>\n",
       "  </thead>\n",
       "  <tbody>\n",
       "    <tr>\n",
       "      <th>0</th>\n",
       "      <td>unknown</td>\n",
       "      <td>ccert.edu.cn</td>\n",
       "      <td>10.0</td>\n",
       "      <td>非 财务 纠淼 牟 莆 窆 芾 - （ 沙盘 模拟 ） - - - - - - 如何 运用 ...</td>\n",
       "      <td>1</td>\n",
       "    </tr>\n",
       "    <tr>\n",
       "      <th>1</th>\n",
       "      <td>jdl.ac.cn</td>\n",
       "      <td>ccert.edu.cn</td>\n",
       "      <td>10.0</td>\n",
       "      <td>讲 的 是 孔子 后人 的 故事 。 一个 老 领导 回到 家乡 ， 跟 儿子 感情 不 和...</td>\n",
       "      <td>0</td>\n",
       "    </tr>\n",
       "    <tr>\n",
       "      <th>2</th>\n",
       "      <td>163.con</td>\n",
       "      <td>ccert.edu.cn</td>\n",
       "      <td>10.0</td>\n",
       "      <td>尊敬 的 贵 公司 ( 财务 / 经理 ) 负责人 您好 ！ 我 是 深圳 金海 实业 有限...</td>\n",
       "      <td>1</td>\n",
       "    </tr>\n",
       "    <tr>\n",
       "      <th>3</th>\n",
       "      <td>12.com</td>\n",
       "      <td>ccert.edu.cn</td>\n",
       "      <td>10.0</td>\n",
       "      <td>贵 公司 负责人 ( 经理 / 财务 ） 您好 ： 深圳市 华龙 公司 受 多家 公司 委托...</td>\n",
       "      <td>1</td>\n",
       "    </tr>\n",
       "    <tr>\n",
       "      <th>4</th>\n",
       "      <td>dghhkjk.com</td>\n",
       "      <td>ccert.edu.cn</td>\n",
       "      <td>10.0</td>\n",
       "      <td>这是 一封 HTML 格式 信件 ！ - - - - - - - - - - - - - -...</td>\n",
       "      <td>1</td>\n",
       "    </tr>\n",
       "  </tbody>\n",
       "</table>\n",
       "</div>"
      ],
      "text/plain": [
       "          from            to  date  \\\n",
       "0      unknown  ccert.edu.cn  10.0   \n",
       "1    jdl.ac.cn  ccert.edu.cn  10.0   \n",
       "2      163.con  ccert.edu.cn  10.0   \n",
       "3       12.com  ccert.edu.cn  10.0   \n",
       "4  dghhkjk.com  ccert.edu.cn  10.0   \n",
       "\n",
       "                                             content  label  \n",
       "0  非 财务 纠淼 牟 莆 窆 芾 - （ 沙盘 模拟 ） - - - - - - 如何 运用 ...      1  \n",
       "1  讲 的 是 孔子 后人 的 故事 。 一个 老 领导 回到 家乡 ， 跟 儿子 感情 不 和...      0  \n",
       "2  尊敬 的 贵 公司 ( 财务 / 经理 ) 负责人 您好 ！ 我 是 深圳 金海 实业 有限...      1  \n",
       "3  贵 公司 负责人 ( 经理 / 财务 ） 您好 ： 深圳市 华龙 公司 受 多家 公司 委托...      1  \n",
       "4  这是 一封 HTML 格式 信件 ！ - - - - - - - - - - - - - -...      1  "
      ]
     },
     "execution_count": 8,
     "metadata": {},
     "output_type": "execute_result"
    }
   ],
   "source": [
    "data.head()"
   ]
  },
  {
   "cell_type": "code",
   "execution_count": 9,
   "metadata": {},
   "outputs": [],
   "source": [
    "if not os.path.exists('./datas'):\n",
    "    os.mkdir('./datas')\n",
    "    \n",
    "data.to_csv('./datas/data_pre.csv',index=False)"
   ]
  }
 ],
 "metadata": {
  "kernelspec": {
   "display_name": "Python 3",
   "language": "python",
   "name": "python3"
  },
  "language_info": {
   "codemirror_mode": {
    "name": "ipython",
    "version": 3
   },
   "file_extension": ".py",
   "mimetype": "text/x-python",
   "name": "python",
   "nbconvert_exporter": "python",
   "pygments_lexer": "ipython3",
   "version": "3.6.5"
  },
  "toc": {
   "base_numbering": 1,
   "nav_menu": {},
   "number_sections": true,
   "sideBar": true,
   "skip_h1_title": false,
   "title_cell": "Table of Contents",
   "title_sidebar": "Contents",
   "toc_cell": false,
   "toc_position": {},
   "toc_section_display": true,
   "toc_window_display": false
  }
 },
 "nbformat": 4,
 "nbformat_minor": 2
}
